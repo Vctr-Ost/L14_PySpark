{
 "cells": [
  {
   "cell_type": "code",
   "execution_count": 2,
   "metadata": {
    "collapsed": true
   },
   "outputs": [],
   "source": [
    "from pyspark.sql import SparkSession, functions as F, types as T"
   ]
  },
  {
   "cell_type": "code",
   "execution_count": 3,
   "metadata": {
    "collapsed": false,
    "pycharm": {
     "is_executing": true
    }
   },
   "outputs": [],
   "source": [
    "spark = SparkSession.builder.master('local[*]').getOrCreate()"
   ]
  },
  {
   "cell_type": "code",
   "execution_count": 4,
   "metadata": {
    "collapsed": false
   },
   "outputs": [
    {
     "name": "stdout",
     "output_type": "stream",
     "text": [
      "3.4.1\n"
     ]
    }
   ],
   "source": [
    "print(spark.version)"
   ]
  },
  {
   "cell_type": "code",
   "execution_count": 5,
   "metadata": {
    "collapsed": false
   },
   "outputs": [],
   "source": [
    "actor_df = spark.read.csv('./data/actor.csv', header=True, inferSchema=True)\n",
    "address_df = spark.read.csv('./data/address.csv', header=True, inferSchema=True)\n",
    "category_df = spark.read.csv('./data/category.csv', header=True, inferSchema=True)\n",
    "city_df = spark.read.csv('./data/city.csv', header=True, inferSchema=True)\n",
    "country_df = spark.read.csv('./data/country.csv', header=True, inferSchema=True)\n",
    "customer_df = spark.read.csv('./data/customer.csv', header=True, inferSchema=True)\n",
    "film_df = spark.read.csv('./data/film.csv', header=True, inferSchema=True)\n",
    "film_actor_df = spark.read.csv('./data/film_actor.csv', header=True, inferSchema=True)\n",
    "film_category_df = spark.read.csv('./data/film_category.csv', header=True, inferSchema=True)\n",
    "inventory_df = spark.read.csv('./data/inventory.csv', header=True, inferSchema=True)\n",
    "language_df = spark.read.csv('./data/language.csv', header=True, inferSchema=True)\n",
    "payment_df = spark.read.csv('./data/payment.csv', header=True, inferSchema=True)\n",
    "rental_df = spark.read.csv('./data/rental.csv', header=True, inferSchema=True)\n",
    "staff_df = spark.read.csv('./data/staff.csv', header=True, inferSchema=True)\n",
    "store_df = spark.read.csv('./data/store.csv', header=True, inferSchema=True)"
   ]
  },
  {
   "cell_type": "markdown",
   "metadata": {
    "collapsed": false
   },
   "source": [
    "# Домашнє завдання на тему Spark SQL\n",
    "\n",
    "Задачі з домашнього завдання на SQL потрібно розвʼязати за допомогою Spark SQL DataFrame API.\n",
    "\n",
    "- Дампи таблиць знаходяться в папці `data`. Датафрейми таблиць вже створені в клітинці вище.\n",
    "- Можете створювати стільки нових клітинок, скільки вам необхідно.\n",
    "- Розвʼязок кожної задачі має бути відображений в самому файлі (використати метод `.show()`)\n",
    "- код має бути оформлений у відповідності із одним із стилем, показаним лектором на занятті 13.\n",
    "\n",
    "**Увага!**\n",
    "Використовувати мову запитів SQL безпосередньо забороняється, потрібно використовувати виключно DataFrame API!\n"
   ]
  },
  {
   "cell_type": "markdown",
   "metadata": {
    "collapsed": false
   },
   "source": [
    "1.\n",
    "Вивести кількість фільмів в кожній категорії.\n",
    "Результат відсортувати за спаданням."
   ]
  },
  {
   "cell_type": "code",
   "execution_count": 89,
   "metadata": {
    "collapsed": false
   },
   "outputs": [
    {
     "name": "stdout",
     "output_type": "stream",
     "text": [
      "+-----------+---------+\n",
      "|       name|cnt_films|\n",
      "+-----------+---------+\n",
      "|     Sports|       74|\n",
      "|    Foreign|       73|\n",
      "|     Family|       69|\n",
      "|Documentary|       68|\n",
      "|  Animation|       66|\n",
      "|     Action|       64|\n",
      "|        New|       63|\n",
      "|      Drama|       62|\n",
      "|      Games|       61|\n",
      "|     Sci-Fi|       61|\n",
      "|   Children|       60|\n",
      "|     Comedy|       58|\n",
      "|     Travel|       57|\n",
      "|   Classics|       57|\n",
      "|     Horror|       56|\n",
      "|      Music|       51|\n",
      "+-----------+---------+\n",
      "\n"
     ]
    }
   ],
   "source": [
    "categories_filmc_cnt_df = film_category_df \\\n",
    "    .groupBy(\"category_id\") \\\n",
    "    .agg(F.count(\"film_id\").alias(\"cnt_films\"))\n",
    "\n",
    "categories_filmc_cnt_df \\\n",
    "    .join(category_df, on=\"category_id\", how=\"left\") \\\n",
    "    .select(\"name\", \"cnt_films\") \\\n",
    "    .sort(categories_filmc_cnt_df[\"cnt_films\"].desc()) \\\n",
    "    .show()"
   ]
  },
  {
   "cell_type": "markdown",
   "metadata": {
    "collapsed": false
   },
   "source": [
    "2.\n",
    "Вивести 10 акторів, чиї фільми брали на прокат найбільше.\n",
    "Результат відсортувати за спаданням."
   ]
  },
  {
   "cell_type": "code",
   "execution_count": 91,
   "metadata": {
    "collapsed": false
   },
   "outputs": [
    {
     "name": "stdout",
     "output_type": "stream",
     "text": [
      "+----------+-----------+---+\n",
      "|first_name|  last_name|cnt|\n",
      "+----------+-----------+---+\n",
      "|      GINA|  DEGENERES|753|\n",
      "|   MATTHEW|     CARREY|678|\n",
      "|      MARY|     KEITEL|674|\n",
      "|    ANGELA|WITHERSPOON|654|\n",
      "|    WALTER|       TORN|640|\n",
      "|     HENRY|      BERRY|612|\n",
      "|     JAYNE|      NOLTE|611|\n",
      "|       VAL|     BOLGER|605|\n",
      "|    SANDRA|     KILMER|604|\n",
      "|      SEAN|    GUINESS|599|\n",
      "+----------+-----------+---+\n",
      "\n"
     ]
    }
   ],
   "source": [
    "res_df = rental_df \\\n",
    "    .join(inventory_df, on=\"inventory_id\", how=\"left\") \\\n",
    "    .join(film_actor_df, on=\"film_id\", how=\"left\") \\\n",
    "    .join(actor_df, on=\"actor_id\", how=\"left\") \\\n",
    "    .groupBy(\"actor_id\", \"first_name\", \"last_name\") \\\n",
    "    .agg(F.count(\"actor_id\").alias(\"cnt\")) \\\n",
    "    .select(\"first_name\", \"last_name\", \"cnt\")\n",
    "\n",
    "res_df.sort(res_df[\"cnt\"].desc()).limit(10).show()"
   ]
  },
  {
   "cell_type": "markdown",
   "metadata": {
    "collapsed": false
   },
   "source": [
    "3.\n",
    "Вивести категорія фільмів, на яку було витрачено найбільше грошей\n",
    "в прокаті"
   ]
  },
  {
   "cell_type": "code",
   "execution_count": 92,
   "metadata": {
    "collapsed": false
   },
   "outputs": [
    {
     "name": "stdout",
     "output_type": "stream",
     "text": [
      "+------+-----------------+\n",
      "|  name|       sum_amount|\n",
      "+------+-----------------+\n",
      "|Sports|5314.209999999847|\n",
      "+------+-----------------+\n",
      "\n"
     ]
    }
   ],
   "source": [
    "res_df = payment_df \\\n",
    "    .join(rental_df, on=\"rental_id\", how=\"left\") \\\n",
    "    .join(inventory_df, on=\"inventory_id\", how=\"left\") \\\n",
    "    .join(film_category_df, on=\"film_id\", how=\"left\") \\\n",
    "    .join(category_df, on=\"category_id\", how=\"left\") \\\n",
    "    .groupBy(\"name\") \\\n",
    "    .agg(F.sum(\"amount\").alias(\"sum_amount\")) \\\n",
    "    .orderBy([\"sum_amount\"], ascending=0) \\\n",
    "    .limit(1).show()"
   ]
  },
  {
   "cell_type": "markdown",
   "metadata": {
    "collapsed": false
   },
   "source": [
    "4.\n",
    "Вивести назви фільмів, яких не має в inventory."
   ]
  },
  {
   "cell_type": "code",
   "execution_count": 93,
   "metadata": {
    "collapsed": false
   },
   "outputs": [
    {
     "name": "stdout",
     "output_type": "stream",
     "text": [
      "+-------+--------------------+\n",
      "|film_id|               title|\n",
      "+-------+--------------------+\n",
      "|     14|      ALICE FANTASIA|\n",
      "|     33|         APOLLO TEEN|\n",
      "|     36|      ARGONAUTS TOWN|\n",
      "|     38|       ARK RIDGEMONT|\n",
      "|     41|ARSENIC INDEPENDENCE|\n",
      "|     87|   BOONDOCK BALLROOM|\n",
      "|    108|       BUTCH PANTHER|\n",
      "|    128|       CATCH AMISTAD|\n",
      "|    144| CHINATOWN GLADIATOR|\n",
      "|    148|      CHOCOLATE DUCK|\n",
      "|    171|COMMANDMENTS EXPRESS|\n",
      "|    192|    CROSSING DIVORCE|\n",
      "|    195|     CROWDS TELEMARK|\n",
      "|    198|    CRYSTAL BREAKING|\n",
      "|    217|          DAZED PUNK|\n",
      "|    221|DELIVERANCE MULHO...|\n",
      "|    318|   FIREHOUSE VIETNAM|\n",
      "|    325|       FLOATS GARDEN|\n",
      "|    332|FRANKENSTEIN STRA...|\n",
      "|    359|  GLADIATOR WESTWARD|\n",
      "+-------+--------------------+\n",
      "only showing top 20 rows\n",
      "\n"
     ]
    }
   ],
   "source": [
    "film_id_inv_df = inventory_df.select(\"film_id\").distinct()\n",
    "film_id_df = film_df.select(\"film_id\").distinct()\n",
    "\n",
    "need_film_id_df = film_id_df.subtract(film_id_inv_df)\n",
    "\n",
    "res_df = film_df \\\n",
    "    .join(need_film_id_df, on=\"film_id\", how=\"inner\") \\\n",
    "    .select(\"film_id\", \"title\") \\\n",
    "    .show()"
   ]
  },
  {
   "cell_type": "markdown",
   "metadata": {
    "collapsed": false
   },
   "source": [
    "5.\n",
    "Вивести топ 3 актори, які найбільше зʼявлялись в категорії фільмів “Children”"
   ]
  },
  {
   "cell_type": "code",
   "execution_count": 94,
   "metadata": {
    "collapsed": false,
    "pycharm": {
     "is_executing": true
    }
   },
   "outputs": [
    {
     "name": "stdout",
     "output_type": "stream",
     "text": [
      "+------------+\n",
      "|        name|\n",
      "+------------+\n",
      "|HELEN VOIGHT|\n",
      "|  RALPH CRUZ|\n",
      "| WHOOPI HURT|\n",
      "+------------+\n",
      "\n"
     ]
    }
   ],
   "source": [
    "children_films_df = category_df \\\n",
    "    .join(film_category_df, on=\"category_id\", how=\"left\") \\\n",
    "    .join(film_actor_df, on=\"film_id\", how=\"left\") \\\n",
    "    .filter(category_df.name == \"Children\") \\\n",
    "    .groupBy(film_actor_df.actor_id) \\\n",
    "    .agg(F.count(\"*\").alias(\"cnt\")) \\\n",
    "    .orderBy(\"cnt\", ascending=0) \\\n",
    "    .limit(3)\n",
    "\n",
    "res_df = children_films_df \\\n",
    "    .join(actor_df, on=\"actor_id\", how=\"left\") \\\n",
    "    .select(F.concat(actor_df.first_name, F.lit(\" \"), actor_df.last_name) \\\n",
    "    .alias(\"name\")) \\\n",
    "    .show()"
   ]
  },
  {
   "cell_type": "code",
   "execution_count": null,
   "metadata": {
    "collapsed": false
   },
   "outputs": [],
   "source": []
  },
  {
   "cell_type": "markdown",
   "metadata": {
    "collapsed": false
   },
   "source": [
    "Stop Spark session:"
   ]
  },
  {
   "cell_type": "code",
   "execution_count": 95,
   "metadata": {
    "collapsed": false
   },
   "outputs": [],
   "source": [
    "spark.stop()"
   ]
  }
 ],
 "metadata": {
  "kernelspec": {
   "display_name": "Python 3",
   "language": "python",
   "name": "python3"
  },
  "language_info": {
   "codemirror_mode": {
    "name": "ipython",
    "version": 3
   },
   "file_extension": ".py",
   "mimetype": "text/x-python",
   "name": "python",
   "nbconvert_exporter": "python",
   "pygments_lexer": "ipython3",
   "version": "3.12.3"
  }
 },
 "nbformat": 4,
 "nbformat_minor": 0
}
